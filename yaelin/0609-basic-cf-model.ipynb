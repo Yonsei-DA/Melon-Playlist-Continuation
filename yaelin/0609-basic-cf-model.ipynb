{
 "cells": [
  {
   "cell_type": "code",
   "execution_count": 1,
   "metadata": {},
   "outputs": [],
   "source": [
    "import pandas as pd\n",
    "import numpy as np"
   ]
  },
  {
   "cell_type": "code",
   "execution_count": 2,
   "metadata": {},
   "outputs": [],
   "source": [
    "from tqdm.notebook import tqdm"
   ]
  },
  {
   "cell_type": "code",
   "execution_count": 3,
   "metadata": {},
   "outputs": [],
   "source": [
    "train = pd.read_json('../data/train.json')"
   ]
  },
  {
   "cell_type": "code",
   "execution_count": 4,
   "metadata": {},
   "outputs": [
    {
     "data": {
      "text/html": [
       "<div>\n",
       "<style scoped>\n",
       "    .dataframe tbody tr th:only-of-type {\n",
       "        vertical-align: middle;\n",
       "    }\n",
       "\n",
       "    .dataframe tbody tr th {\n",
       "        vertical-align: top;\n",
       "    }\n",
       "\n",
       "    .dataframe thead th {\n",
       "        text-align: right;\n",
       "    }\n",
       "</style>\n",
       "<table border=\"1\" class=\"dataframe\">\n",
       "  <thead>\n",
       "    <tr style=\"text-align: right;\">\n",
       "      <th></th>\n",
       "      <th>tags</th>\n",
       "      <th>id</th>\n",
       "      <th>plylst_title</th>\n",
       "      <th>songs</th>\n",
       "      <th>like_cnt</th>\n",
       "      <th>updt_date</th>\n",
       "    </tr>\n",
       "  </thead>\n",
       "  <tbody>\n",
       "    <tr>\n",
       "      <td>0</td>\n",
       "      <td>[락]</td>\n",
       "      <td>61281</td>\n",
       "      <td>여행같은 음악</td>\n",
       "      <td>[525514, 129701, 383374, 562083, 297861, 13954...</td>\n",
       "      <td>71</td>\n",
       "      <td>2013-12-19 18:36:19.000</td>\n",
       "    </tr>\n",
       "    <tr>\n",
       "      <td>1</td>\n",
       "      <td>[추억, 회상]</td>\n",
       "      <td>10532</td>\n",
       "      <td>요즘 너 말야</td>\n",
       "      <td>[432406, 675945, 497066, 120377, 389529, 24427...</td>\n",
       "      <td>1</td>\n",
       "      <td>2014-12-02 16:19:42.000</td>\n",
       "    </tr>\n",
       "    <tr>\n",
       "      <td>2</td>\n",
       "      <td>[까페, 잔잔한]</td>\n",
       "      <td>76951</td>\n",
       "      <td>편하게, 잔잔하게 들을 수 있는 곡.-</td>\n",
       "      <td>[83116, 276692, 166267, 186301, 354465, 256598...</td>\n",
       "      <td>17</td>\n",
       "      <td>2017-08-28 07:09:34.000</td>\n",
       "    </tr>\n",
       "    <tr>\n",
       "      <td>3</td>\n",
       "      <td>[연말, 눈오는날, 캐럴, 분위기, 따듯한, 크리스마스캐럴, 겨울노래, 크리스마스,...</td>\n",
       "      <td>147456</td>\n",
       "      <td>크리스마스 분위기에 흠뻑 취하고 싶을때</td>\n",
       "      <td>[394031, 195524, 540149, 287984, 440773, 10033...</td>\n",
       "      <td>33</td>\n",
       "      <td>2019-12-05 15:15:18.000</td>\n",
       "    </tr>\n",
       "    <tr>\n",
       "      <td>4</td>\n",
       "      <td>[댄스]</td>\n",
       "      <td>27616</td>\n",
       "      <td>추억의 노래 ㅋ</td>\n",
       "      <td>[159327, 553610, 5130, 645103, 294435, 100657,...</td>\n",
       "      <td>9</td>\n",
       "      <td>2011-10-25 13:54:56.000</td>\n",
       "    </tr>\n",
       "  </tbody>\n",
       "</table>\n",
       "</div>"
      ],
      "text/plain": [
       "                                                tags      id  \\\n",
       "0                                                [락]   61281   \n",
       "1                                           [추억, 회상]   10532   \n",
       "2                                          [까페, 잔잔한]   76951   \n",
       "3  [연말, 눈오는날, 캐럴, 분위기, 따듯한, 크리스마스캐럴, 겨울노래, 크리스마스,...  147456   \n",
       "4                                               [댄스]   27616   \n",
       "\n",
       "            plylst_title                                              songs  \\\n",
       "0                여행같은 음악  [525514, 129701, 383374, 562083, 297861, 13954...   \n",
       "1                요즘 너 말야  [432406, 675945, 497066, 120377, 389529, 24427...   \n",
       "2  편하게, 잔잔하게 들을 수 있는 곡.-  [83116, 276692, 166267, 186301, 354465, 256598...   \n",
       "3  크리스마스 분위기에 흠뻑 취하고 싶을때  [394031, 195524, 540149, 287984, 440773, 10033...   \n",
       "4               추억의 노래 ㅋ  [159327, 553610, 5130, 645103, 294435, 100657,...   \n",
       "\n",
       "   like_cnt                updt_date  \n",
       "0        71  2013-12-19 18:36:19.000  \n",
       "1         1  2014-12-02 16:19:42.000  \n",
       "2        17  2017-08-28 07:09:34.000  \n",
       "3        33  2019-12-05 15:15:18.000  \n",
       "4         9  2011-10-25 13:54:56.000  "
      ]
     },
     "execution_count": 4,
     "metadata": {},
     "output_type": "execute_result"
    }
   ],
   "source": [
    "train.head()"
   ]
  },
  {
   "cell_type": "code",
   "execution_count": 5,
   "metadata": {},
   "outputs": [],
   "source": [
    "# songs = pd.read_json('../data/song_meta.json')"
   ]
  },
  {
   "cell_type": "code",
   "execution_count": 6,
   "metadata": {},
   "outputs": [],
   "source": [
    "# songs.head()"
   ]
  },
  {
   "cell_type": "code",
   "execution_count": 7,
   "metadata": {},
   "outputs": [],
   "source": [
    "# genre = pd.read_json('../data/genre_gn_all.json', typ='series')"
   ]
  },
  {
   "cell_type": "code",
   "execution_count": 8,
   "metadata": {},
   "outputs": [],
   "source": [
    "# genre = pd.DataFrame(genre).reset_index().rename(columns={'index':'gn', 0:'desc'})"
   ]
  },
  {
   "cell_type": "code",
   "execution_count": 7,
   "metadata": {},
   "outputs": [],
   "source": [
    "val = pd.read_json('../data/val.json')"
   ]
  },
  {
   "cell_type": "code",
   "execution_count": 8,
   "metadata": {},
   "outputs": [
    {
     "data": {
      "text/html": [
       "<div>\n",
       "<style scoped>\n",
       "    .dataframe tbody tr th:only-of-type {\n",
       "        vertical-align: middle;\n",
       "    }\n",
       "\n",
       "    .dataframe tbody tr th {\n",
       "        vertical-align: top;\n",
       "    }\n",
       "\n",
       "    .dataframe thead th {\n",
       "        text-align: right;\n",
       "    }\n",
       "</style>\n",
       "<table border=\"1\" class=\"dataframe\">\n",
       "  <thead>\n",
       "    <tr style=\"text-align: right;\">\n",
       "      <th></th>\n",
       "      <th>tags</th>\n",
       "      <th>id</th>\n",
       "      <th>plylst_title</th>\n",
       "      <th>songs</th>\n",
       "      <th>like_cnt</th>\n",
       "      <th>updt_date</th>\n",
       "    </tr>\n",
       "  </thead>\n",
       "  <tbody>\n",
       "    <tr>\n",
       "      <td>0</td>\n",
       "      <td>[]</td>\n",
       "      <td>118598</td>\n",
       "      <td></td>\n",
       "      <td>[373313, 151080, 275346, 696876, 165237, 52593...</td>\n",
       "      <td>1675</td>\n",
       "      <td>2019-05-27 14:14:33.000</td>\n",
       "    </tr>\n",
       "    <tr>\n",
       "      <td>1</td>\n",
       "      <td>[]</td>\n",
       "      <td>131447</td>\n",
       "      <td>앨리스테이블</td>\n",
       "      <td>[]</td>\n",
       "      <td>1</td>\n",
       "      <td>2014-07-16 15:24:24.000</td>\n",
       "    </tr>\n",
       "    <tr>\n",
       "      <td>2</td>\n",
       "      <td>[]</td>\n",
       "      <td>51464</td>\n",
       "      <td></td>\n",
       "      <td>[529437, 516103, 360067, 705713, 226062, 37089...</td>\n",
       "      <td>62</td>\n",
       "      <td>2008-06-21 23:26:22.000</td>\n",
       "    </tr>\n",
       "    <tr>\n",
       "      <td>3</td>\n",
       "      <td>[]</td>\n",
       "      <td>45144</td>\n",
       "      <td></td>\n",
       "      <td>[589668, 21711, 570151, 320043, 13930, 599327,...</td>\n",
       "      <td>20</td>\n",
       "      <td>2017-10-30 18:15:43.000</td>\n",
       "    </tr>\n",
       "    <tr>\n",
       "      <td>4</td>\n",
       "      <td>[]</td>\n",
       "      <td>79929</td>\n",
       "      <td></td>\n",
       "      <td>[672718, 121924, 102694, 683657, 201558, 38511...</td>\n",
       "      <td>20</td>\n",
       "      <td>2017-02-07 11:40:42.000</td>\n",
       "    </tr>\n",
       "  </tbody>\n",
       "</table>\n",
       "</div>"
      ],
      "text/plain": [
       "  tags      id plylst_title  \\\n",
       "0   []  118598                \n",
       "1   []  131447       앨리스테이블   \n",
       "2   []   51464                \n",
       "3   []   45144                \n",
       "4   []   79929                \n",
       "\n",
       "                                               songs  like_cnt  \\\n",
       "0  [373313, 151080, 275346, 696876, 165237, 52593...      1675   \n",
       "1                                                 []         1   \n",
       "2  [529437, 516103, 360067, 705713, 226062, 37089...        62   \n",
       "3  [589668, 21711, 570151, 320043, 13930, 599327,...        20   \n",
       "4  [672718, 121924, 102694, 683657, 201558, 38511...        20   \n",
       "\n",
       "                 updt_date  \n",
       "0  2019-05-27 14:14:33.000  \n",
       "1  2014-07-16 15:24:24.000  \n",
       "2  2008-06-21 23:26:22.000  \n",
       "3  2017-10-30 18:15:43.000  \n",
       "4  2017-02-07 11:40:42.000  "
      ]
     },
     "execution_count": 8,
     "metadata": {},
     "output_type": "execute_result"
    }
   ],
   "source": [
    "val.head()"
   ]
  },
  {
   "cell_type": "code",
   "execution_count": 10,
   "metadata": {},
   "outputs": [
    {
     "data": {
      "text/plain": [
       "((115071, 6), (23015, 6))"
      ]
     },
     "execution_count": 10,
     "metadata": {},
     "output_type": "execute_result"
    }
   ],
   "source": [
    "train.shape, val.shape"
   ]
  },
  {
   "cell_type": "markdown",
   "metadata": {},
   "source": [
    "## validation data cases - no songs"
   ]
  },
  {
   "cell_type": "code",
   "execution_count": 154,
   "metadata": {},
   "outputs": [],
   "source": [
    "val['num_songs'] = val['songs'].map(lambda x: len(x))"
   ]
  },
  {
   "cell_type": "code",
   "execution_count": 155,
   "metadata": {},
   "outputs": [
    {
     "data": {
      "text/html": [
       "<div>\n",
       "<style scoped>\n",
       "    .dataframe tbody tr th:only-of-type {\n",
       "        vertical-align: middle;\n",
       "    }\n",
       "\n",
       "    .dataframe tbody tr th {\n",
       "        vertical-align: top;\n",
       "    }\n",
       "\n",
       "    .dataframe thead th {\n",
       "        text-align: right;\n",
       "    }\n",
       "</style>\n",
       "<table border=\"1\" class=\"dataframe\">\n",
       "  <thead>\n",
       "    <tr style=\"text-align: right;\">\n",
       "      <th></th>\n",
       "      <th>tags</th>\n",
       "      <th>id</th>\n",
       "      <th>plylst_title</th>\n",
       "      <th>songs</th>\n",
       "      <th>like_cnt</th>\n",
       "      <th>updt_date</th>\n",
       "      <th>num_songs</th>\n",
       "    </tr>\n",
       "  </thead>\n",
       "  <tbody>\n",
       "    <tr>\n",
       "      <td>1</td>\n",
       "      <td>[]</td>\n",
       "      <td>131447</td>\n",
       "      <td>앨리스테이블</td>\n",
       "      <td>[]</td>\n",
       "      <td>1</td>\n",
       "      <td>2014-07-16 15:24:24.000</td>\n",
       "      <td>0</td>\n",
       "    </tr>\n",
       "    <tr>\n",
       "      <td>8</td>\n",
       "      <td>[스트레스]</td>\n",
       "      <td>80810</td>\n",
       "      <td>리듬타면서 빡시게 운동하자!!!(스트레스 날리자):}</td>\n",
       "      <td>[]</td>\n",
       "      <td>127</td>\n",
       "      <td>2017-02-09 17:33:45.000</td>\n",
       "      <td>0</td>\n",
       "    </tr>\n",
       "    <tr>\n",
       "      <td>9</td>\n",
       "      <td>[]</td>\n",
       "      <td>142007</td>\n",
       "      <td>기분 좋은 재즈와 함께 만드는 달달한 하루</td>\n",
       "      <td>[]</td>\n",
       "      <td>0</td>\n",
       "      <td>2015-06-22 09:11:02.000</td>\n",
       "      <td>0</td>\n",
       "    </tr>\n",
       "    <tr>\n",
       "      <td>17</td>\n",
       "      <td>[생각나]</td>\n",
       "      <td>2380</td>\n",
       "      <td>다시 생각나는 그 사람</td>\n",
       "      <td>[]</td>\n",
       "      <td>6</td>\n",
       "      <td>2016-03-19 23:53:20.000</td>\n",
       "      <td>0</td>\n",
       "    </tr>\n",
       "    <tr>\n",
       "      <td>20</td>\n",
       "      <td>[피아노, 이루마, 메로디]</td>\n",
       "      <td>149069</td>\n",
       "      <td>불면증엔 아름다운 뉴에이지 곡들</td>\n",
       "      <td>[]</td>\n",
       "      <td>11</td>\n",
       "      <td>2019-12-15 19:15:21.000</td>\n",
       "      <td>0</td>\n",
       "    </tr>\n",
       "    <tr>\n",
       "      <td>...</td>\n",
       "      <td>...</td>\n",
       "      <td>...</td>\n",
       "      <td>...</td>\n",
       "      <td>...</td>\n",
       "      <td>...</td>\n",
       "      <td>...</td>\n",
       "      <td>...</td>\n",
       "    </tr>\n",
       "    <tr>\n",
       "      <td>22991</td>\n",
       "      <td>[]</td>\n",
       "      <td>32537</td>\n",
       "      <td>컨트리 황제 조니 캐시가 선 레코드 시절 발표한 초기 대표작</td>\n",
       "      <td>[]</td>\n",
       "      <td>28</td>\n",
       "      <td>2019-06-17 14:22:48.000</td>\n",
       "      <td>0</td>\n",
       "    </tr>\n",
       "    <tr>\n",
       "      <td>22992</td>\n",
       "      <td>[사랑]</td>\n",
       "      <td>32812</td>\n",
       "      <td>♥옷차림이 가벼워질때 부담없이 듣는음악♥</td>\n",
       "      <td>[]</td>\n",
       "      <td>8</td>\n",
       "      <td>2015-05-08 00:09:01.000</td>\n",
       "      <td>0</td>\n",
       "    </tr>\n",
       "    <tr>\n",
       "      <td>22996</td>\n",
       "      <td>[]</td>\n",
       "      <td>86721</td>\n",
       "      <td>해 저무는 밤</td>\n",
       "      <td>[]</td>\n",
       "      <td>5</td>\n",
       "      <td>2016-04-27 15:32:55.000</td>\n",
       "      <td>0</td>\n",
       "    </tr>\n",
       "    <tr>\n",
       "      <td>23002</td>\n",
       "      <td>[텐션, 명곡, 학창시절, 텐션업]</td>\n",
       "      <td>56570</td>\n",
       "      <td>숨어듣는명곡! 텐션올릴때듣는 그시절그노래!! (그냥명곡있을수있음주의)</td>\n",
       "      <td>[]</td>\n",
       "      <td>538</td>\n",
       "      <td>2020-04-18 22:02:07.000</td>\n",
       "      <td>0</td>\n",
       "    </tr>\n",
       "    <tr>\n",
       "      <td>23008</td>\n",
       "      <td>[sweetmind, 발라드, 사랑, 기분전환, 역주행]</td>\n",
       "      <td>100684</td>\n",
       "      <td>[별책부록] Sweetmind의 음악마중</td>\n",
       "      <td>[]</td>\n",
       "      <td>79</td>\n",
       "      <td>2020-02-07 14:42:25.000</td>\n",
       "      <td>0</td>\n",
       "    </tr>\n",
       "  </tbody>\n",
       "</table>\n",
       "<p>4379 rows × 7 columns</p>\n",
       "</div>"
      ],
      "text/plain": [
       "                                  tags      id  \\\n",
       "1                                   []  131447   \n",
       "8                               [스트레스]   80810   \n",
       "9                                   []  142007   \n",
       "17                               [생각나]    2380   \n",
       "20                     [피아노, 이루마, 메로디]  149069   \n",
       "...                                ...     ...   \n",
       "22991                               []   32537   \n",
       "22992                             [사랑]   32812   \n",
       "22996                               []   86721   \n",
       "23002              [텐션, 명곡, 학창시절, 텐션업]   56570   \n",
       "23008  [sweetmind, 발라드, 사랑, 기분전환, 역주행]  100684   \n",
       "\n",
       "                                 plylst_title songs  like_cnt  \\\n",
       "1                                      앨리스테이블    []         1   \n",
       "8               리듬타면서 빡시게 운동하자!!!(스트레스 날리자):}    []       127   \n",
       "9                     기분 좋은 재즈와 함께 만드는 달달한 하루    []         0   \n",
       "17                               다시 생각나는 그 사람    []         6   \n",
       "20                          불면증엔 아름다운 뉴에이지 곡들    []        11   \n",
       "...                                       ...   ...       ...   \n",
       "22991       컨트리 황제 조니 캐시가 선 레코드 시절 발표한 초기 대표작    []        28   \n",
       "22992                  ♥옷차림이 가벼워질때 부담없이 듣는음악♥    []         8   \n",
       "22996                                 해 저무는 밤    []         5   \n",
       "23002  숨어듣는명곡! 텐션올릴때듣는 그시절그노래!! (그냥명곡있을수있음주의)    []       538   \n",
       "23008                  [별책부록] Sweetmind의 음악마중    []        79   \n",
       "\n",
       "                     updt_date  num_songs  \n",
       "1      2014-07-16 15:24:24.000          0  \n",
       "8      2017-02-09 17:33:45.000          0  \n",
       "9      2015-06-22 09:11:02.000          0  \n",
       "17     2016-03-19 23:53:20.000          0  \n",
       "20     2019-12-15 19:15:21.000          0  \n",
       "...                        ...        ...  \n",
       "22991  2019-06-17 14:22:48.000          0  \n",
       "22992  2015-05-08 00:09:01.000          0  \n",
       "22996  2016-04-27 15:32:55.000          0  \n",
       "23002  2020-04-18 22:02:07.000          0  \n",
       "23008  2020-02-07 14:42:25.000          0  \n",
       "\n",
       "[4379 rows x 7 columns]"
      ]
     },
     "execution_count": 155,
     "metadata": {},
     "output_type": "execute_result"
    }
   ],
   "source": [
    "# 곡이 없는 경우 4370건\n",
    "# 0.1898, 약 19%\n",
    "val[val['num_songs']==0]"
   ]
  },
  {
   "cell_type": "markdown",
   "metadata": {},
   "source": [
    "# CF model\n",
    "* Playlist를 사람, songs를 items로"
   ]
  },
  {
   "cell_type": "markdown",
   "metadata": {},
   "source": [
    "## [추후, 지금은 제외] preprocessing - duplicated rows(subset on tags and songs)\n",
    "* 중복된 플레이리스트 중, like_cnt가 높은 row만 남기기"
   ]
  },
  {
   "cell_type": "code",
   "execution_count": 12,
   "metadata": {},
   "outputs": [],
   "source": [
    "# temp = train.copy()\n",
    "# temp.sort_values(by='like_cnt', ascending=False, inplace=True)\n",
    "# temp['tags'] = temp['tags'].astype('str')\n",
    "# temp['songs'] = temp['songs'].astype('str')\n",
    "\n",
    "# temp.drop_duplicates(subset=['tags','songs'], keep='first', inplace=True)\n",
    "# nondup_index = temp.index\n",
    "# train = train.iloc[nondup_index, :]\n",
    "\n",
    "# del nondup_index, temp\n",
    "\n",
    "# train.reset_index(drop=True, inplace=True)"
   ]
  },
  {
   "cell_type": "markdown",
   "metadata": {},
   "source": [
    "## preprocessing - CF dataframe TRAIN"
   ]
  },
  {
   "cell_type": "code",
   "execution_count": 11,
   "metadata": {},
   "outputs": [],
   "source": [
    "from scipy.sparse import csr_matrix"
   ]
  },
  {
   "cell_type": "code",
   "execution_count": 101,
   "metadata": {},
   "outputs": [
    {
     "data": {
      "application/vnd.jupyter.widget-view+json": {
       "model_id": "629ca75dfd18479cb2416ec729e9663e",
       "version_major": 2,
       "version_minor": 0
      },
      "text/plain": [
       "HBox(children=(IntProgress(value=0, max=115071), HTML(value='')))"
      ]
     },
     "metadata": {},
     "output_type": "display_data"
    },
    {
     "name": "stdout",
     "output_type": "stream",
     "text": [
      "\n"
     ]
    }
   ],
   "source": [
    "data, rows, cols = [], [], []\n",
    "\n",
    "for a, b in tqdm(train[['id','songs']].values):\n",
    "    for bs in b:\n",
    "        rows.append(a)\n",
    "        cols.append(bs)\n",
    "        data.append(1)"
   ]
  },
  {
   "cell_type": "code",
   "execution_count": 102,
   "metadata": {
    "scrolled": false
   },
   "outputs": [],
   "source": [
    "train_csr = csr_matrix((data, (rows, cols)), shape=(train.id.max()+1,707989))"
   ]
  },
  {
   "cell_type": "code",
   "execution_count": 14,
   "metadata": {},
   "outputs": [
    {
     "name": "stdout",
     "output_type": "stream",
     "text": [
      "5285871\n"
     ]
    }
   ],
   "source": [
    "print(train_csr.count_nonzero())"
   ]
  },
  {
   "cell_type": "code",
   "execution_count": 21,
   "metadata": {},
   "outputs": [],
   "source": [
    "# train_dense = train_csr.todense()"
   ]
  },
  {
   "cell_type": "code",
   "execution_count": 22,
   "metadata": {},
   "outputs": [],
   "source": [
    "# print(train_dense.shape)"
   ]
  },
  {
   "cell_type": "code",
   "execution_count": 17,
   "metadata": {},
   "outputs": [
    {
     "name": "stdout",
     "output_type": "stream",
     "text": [
      "1 153428\n"
     ]
    }
   ],
   "source": [
    "print(train.id.min(), train.id.max())"
   ]
  },
  {
   "cell_type": "markdown",
   "metadata": {},
   "source": [
    "## preprocessing - CF datafram VAL"
   ]
  },
  {
   "cell_type": "code",
   "execution_count": 18,
   "metadata": {
    "scrolled": true
   },
   "outputs": [
    {
     "data": {
      "text/html": [
       "<div>\n",
       "<style scoped>\n",
       "    .dataframe tbody tr th:only-of-type {\n",
       "        vertical-align: middle;\n",
       "    }\n",
       "\n",
       "    .dataframe tbody tr th {\n",
       "        vertical-align: top;\n",
       "    }\n",
       "\n",
       "    .dataframe thead th {\n",
       "        text-align: right;\n",
       "    }\n",
       "</style>\n",
       "<table border=\"1\" class=\"dataframe\">\n",
       "  <thead>\n",
       "    <tr style=\"text-align: right;\">\n",
       "      <th></th>\n",
       "      <th>tags</th>\n",
       "      <th>id</th>\n",
       "      <th>plylst_title</th>\n",
       "      <th>songs</th>\n",
       "      <th>like_cnt</th>\n",
       "      <th>updt_date</th>\n",
       "    </tr>\n",
       "  </thead>\n",
       "  <tbody>\n",
       "    <tr>\n",
       "      <td>0</td>\n",
       "      <td>[]</td>\n",
       "      <td>118598</td>\n",
       "      <td></td>\n",
       "      <td>[373313, 151080, 275346, 696876, 165237, 52593...</td>\n",
       "      <td>1675</td>\n",
       "      <td>2019-05-27 14:14:33.000</td>\n",
       "    </tr>\n",
       "    <tr>\n",
       "      <td>1</td>\n",
       "      <td>[]</td>\n",
       "      <td>131447</td>\n",
       "      <td>앨리스테이블</td>\n",
       "      <td>[]</td>\n",
       "      <td>1</td>\n",
       "      <td>2014-07-16 15:24:24.000</td>\n",
       "    </tr>\n",
       "    <tr>\n",
       "      <td>2</td>\n",
       "      <td>[]</td>\n",
       "      <td>51464</td>\n",
       "      <td></td>\n",
       "      <td>[529437, 516103, 360067, 705713, 226062, 37089...</td>\n",
       "      <td>62</td>\n",
       "      <td>2008-06-21 23:26:22.000</td>\n",
       "    </tr>\n",
       "    <tr>\n",
       "      <td>3</td>\n",
       "      <td>[]</td>\n",
       "      <td>45144</td>\n",
       "      <td></td>\n",
       "      <td>[589668, 21711, 570151, 320043, 13930, 599327,...</td>\n",
       "      <td>20</td>\n",
       "      <td>2017-10-30 18:15:43.000</td>\n",
       "    </tr>\n",
       "    <tr>\n",
       "      <td>4</td>\n",
       "      <td>[]</td>\n",
       "      <td>79929</td>\n",
       "      <td></td>\n",
       "      <td>[672718, 121924, 102694, 683657, 201558, 38511...</td>\n",
       "      <td>20</td>\n",
       "      <td>2017-02-07 11:40:42.000</td>\n",
       "    </tr>\n",
       "  </tbody>\n",
       "</table>\n",
       "</div>"
      ],
      "text/plain": [
       "  tags      id plylst_title  \\\n",
       "0   []  118598                \n",
       "1   []  131447       앨리스테이블   \n",
       "2   []   51464                \n",
       "3   []   45144                \n",
       "4   []   79929                \n",
       "\n",
       "                                               songs  like_cnt  \\\n",
       "0  [373313, 151080, 275346, 696876, 165237, 52593...      1675   \n",
       "1                                                 []         1   \n",
       "2  [529437, 516103, 360067, 705713, 226062, 37089...        62   \n",
       "3  [589668, 21711, 570151, 320043, 13930, 599327,...        20   \n",
       "4  [672718, 121924, 102694, 683657, 201558, 38511...        20   \n",
       "\n",
       "                 updt_date  \n",
       "0  2019-05-27 14:14:33.000  \n",
       "1  2014-07-16 15:24:24.000  \n",
       "2  2008-06-21 23:26:22.000  \n",
       "3  2017-10-30 18:15:43.000  \n",
       "4  2017-02-07 11:40:42.000  "
      ]
     },
     "execution_count": 18,
     "metadata": {},
     "output_type": "execute_result"
    }
   ],
   "source": [
    "val.head()"
   ]
  },
  {
   "cell_type": "code",
   "execution_count": 129,
   "metadata": {},
   "outputs": [
    {
     "name": "stdout",
     "output_type": "stream",
     "text": [
      "3 153424\n"
     ]
    }
   ],
   "source": [
    "print(val.id.min(), val.id.max())"
   ]
  },
  {
   "cell_type": "code",
   "execution_count": 103,
   "metadata": {},
   "outputs": [
    {
     "data": {
      "application/vnd.jupyter.widget-view+json": {
       "model_id": "79d0a3b1a4164064a2e2c21043fe1272",
       "version_major": 2,
       "version_minor": 0
      },
      "text/plain": [
       "HBox(children=(IntProgress(value=0, max=23015), HTML(value='')))"
      ]
     },
     "metadata": {},
     "output_type": "display_data"
    },
    {
     "name": "stdout",
     "output_type": "stream",
     "text": [
      "\n"
     ]
    }
   ],
   "source": [
    "data, rows, cols = [], [], []\n",
    "\n",
    "for a, b in tqdm(val[['id','songs']].values):\n",
    "    for bs in b:\n",
    "        rows.append(a)\n",
    "        cols.append(bs)\n",
    "        data.append(1)"
   ]
  },
  {
   "cell_type": "code",
   "execution_count": 104,
   "metadata": {},
   "outputs": [],
   "source": [
    "val_csr = csr_matrix((data, (rows, cols)), shape=(val.id.max()+1,707989))"
   ]
  },
  {
   "cell_type": "code",
   "execution_count": 24,
   "metadata": {},
   "outputs": [],
   "source": [
    "# val_dense = val_csr.todense()"
   ]
  },
  {
   "cell_type": "markdown",
   "metadata": {},
   "source": [
    "### intersection\n",
    "* val_csr[3] 기준"
   ]
  },
  {
   "cell_type": "code",
   "execution_count": 132,
   "metadata": {},
   "outputs": [],
   "source": [
    "intersection = val_csr[3].dot(train_csr.T)"
   ]
  },
  {
   "cell_type": "code",
   "execution_count": 133,
   "metadata": {},
   "outputs": [
    {
     "name": "stdout",
     "output_type": "stream",
     "text": [
      "(1, 153429)\n"
     ]
    }
   ],
   "source": [
    "print(intersection.shape)"
   ]
  },
  {
   "cell_type": "code",
   "execution_count": 134,
   "metadata": {},
   "outputs": [
    {
     "data": {
      "text/plain": [
       "0"
      ]
     },
     "execution_count": 134,
     "metadata": {},
     "output_type": "execute_result"
    }
   ],
   "source": [
    "intersection[0,0]"
   ]
  },
  {
   "cell_type": "code",
   "execution_count": 224,
   "metadata": {},
   "outputs": [],
   "source": [
    "# for i in range(0, 153429):\n",
    "#     if intersection[0, i]!=0:\n",
    "#         print(i, intersection[0, i])"
   ]
  },
  {
   "cell_type": "markdown",
   "metadata": {},
   "source": [
    "### union"
   ]
  },
  {
   "cell_type": "code",
   "execution_count": 128,
   "metadata": {
    "scrolled": true
   },
   "outputs": [
    {
     "data": {
      "text/plain": [
       "5"
      ]
     },
     "execution_count": 128,
     "metadata": {},
     "output_type": "execute_result"
    }
   ],
   "source": [
    "# train.id.min() == 1\n",
    "train_csr[1].sum()"
   ]
  },
  {
   "cell_type": "code",
   "execution_count": 130,
   "metadata": {
    "scrolled": true
   },
   "outputs": [
    {
     "data": {
      "text/plain": [
       "66"
      ]
     },
     "execution_count": 130,
     "metadata": {},
     "output_type": "execute_result"
    }
   ],
   "source": [
    "# val.id.min() == 3\n",
    "val_csr[3].sum()"
   ]
  },
  {
   "cell_type": "code",
   "execution_count": 123,
   "metadata": {},
   "outputs": [],
   "source": [
    "# boolean type 변경\n",
    "train_csr_ = train_csr.astype('bool')\n",
    "val_csr_ = val_csr.astype('bool')"
   ]
  },
  {
   "cell_type": "code",
   "execution_count": 131,
   "metadata": {},
   "outputs": [
    {
     "data": {
      "text/plain": [
       "71"
      ]
     },
     "execution_count": 131,
     "metadata": {},
     "output_type": "execute_result"
    }
   ],
   "source": [
    "(train_csr_[1] + val_csr_[3]).sum()"
   ]
  },
  {
   "cell_type": "markdown",
   "metadata": {},
   "source": [
    "### jaccard score"
   ]
  },
  {
   "cell_type": "code",
   "execution_count": 137,
   "metadata": {},
   "outputs": [
    {
     "data": {
      "text/plain": [
       "0.011904761904761904"
      ]
     },
     "execution_count": 137,
     "metadata": {},
     "output_type": "execute_result"
    }
   ],
   "source": [
    "intersection[0,20]/((train_csr_[20]+val_csr_[3]).sum())"
   ]
  },
  {
   "cell_type": "code",
   "execution_count": 138,
   "metadata": {},
   "outputs": [
    {
     "data": {
      "text/plain": [
       "0.024630541871921183"
      ]
     },
     "execution_count": 138,
     "metadata": {},
     "output_type": "execute_result"
    }
   ],
   "source": [
    "intersection[0,141]/((train_csr_[141]+val_csr_[3]).sum())"
   ]
  },
  {
   "cell_type": "code",
   "execution_count": 139,
   "metadata": {},
   "outputs": [
    {
     "data": {
      "text/plain": [
       "0.02459016393442623"
      ]
     },
     "execution_count": 139,
     "metadata": {},
     "output_type": "execute_result"
    }
   ],
   "source": [
    "intersection[0,2638]/((train_csr_[2638]+val_csr_[3]).sum())"
   ]
  },
  {
   "cell_type": "markdown",
   "metadata": {},
   "source": [
    "### recommend"
   ]
  },
  {
   "cell_type": "code",
   "execution_count": 180,
   "metadata": {},
   "outputs": [],
   "source": [
    "import itertools"
   ]
  },
  {
   "cell_type": "code",
   "execution_count": 161,
   "metadata": {},
   "outputs": [
    {
     "data": {
      "application/vnd.jupyter.widget-view+json": {
       "model_id": "bb2ee82720a64a43aa5339ed5eeba5f1",
       "version_major": 2,
       "version_minor": 0
      },
      "text/plain": [
       "HBox(children=(IntProgress(value=0, max=153429), HTML(value='')))"
      ]
     },
     "metadata": {},
     "output_type": "display_data"
    },
    {
     "name": "stdout",
     "output_type": "stream",
     "text": [
      "\n"
     ]
    }
   ],
   "source": [
    "# val_csr[3] 기준 예시\n",
    "scores = {}\n",
    "intersection = val_csr[3].dot(train_csr.T)\n",
    "\n",
    "for i in tqdm(range(0, 153429)):\n",
    "    if intersection[0, i]==0:\n",
    "        pass\n",
    "    else:\n",
    "        jd = intersection[0, i]/((train_csr_[i]+val_csr_[3]).sum())\n",
    "        scores[i] = jd"
   ]
  },
  {
   "cell_type": "code",
   "execution_count": 166,
   "metadata": {},
   "outputs": [
    {
     "data": {
      "text/plain": [
       "0.08411214953271028"
      ]
     },
     "execution_count": 166,
     "metadata": {},
     "output_type": "execute_result"
    }
   ],
   "source": [
    "max(scores.values())"
   ]
  },
  {
   "cell_type": "code",
   "execution_count": 167,
   "metadata": {},
   "outputs": [
    {
     "data": {
      "text/plain": [
       "0.0037735849056603774"
      ]
     },
     "execution_count": 167,
     "metadata": {},
     "output_type": "execute_result"
    }
   ],
   "source": [
    "min(scores.values())"
   ]
  },
  {
   "cell_type": "code",
   "execution_count": 169,
   "metadata": {},
   "outputs": [],
   "source": [
    "scores = sorted(scores.items(), reverse=True, key=lambda x: x[1])"
   ]
  },
  {
   "cell_type": "code",
   "execution_count": 184,
   "metadata": {},
   "outputs": [],
   "source": [
    "given = list(itertools.chain(*list(val[val.id==3].songs)))"
   ]
  },
  {
   "cell_type": "code",
   "execution_count": 225,
   "metadata": {},
   "outputs": [],
   "source": [
    "result = []\n",
    "for i in scores:\n",
    "    basket = list(itertools.chain(*list(train[train.id==i[0]].songs)))\n",
    "    for item in basket:\n",
    "        if len(result)==100:\n",
    "            break\n",
    "        if item not in given:\n",
    "            result.append(item)"
   ]
  },
  {
   "cell_type": "code",
   "execution_count": 226,
   "metadata": {},
   "outputs": [
    {
     "data": {
      "text/plain": [
       "100"
      ]
     },
     "execution_count": 226,
     "metadata": {},
     "output_type": "execute_result"
    }
   ],
   "source": [
    "len(result)"
   ]
  },
  {
   "cell_type": "markdown",
   "metadata": {},
   "source": [
    "## recommend function"
   ]
  },
  {
   "cell_type": "code",
   "execution_count": 221,
   "metadata": {},
   "outputs": [],
   "source": [
    "def recommend_100(val_id):\n",
    "    scores = {} \n",
    "    intersection = val_csr[val_id].dot(train_csr.T)\n",
    "\n",
    "    for i in tqdm(range(0, 153429)):\n",
    "        if intersection[0, i]==0:\n",
    "            pass\n",
    "        else:\n",
    "            jd = intersection[0, i]/((train_csr_[i]+val_csr_[val_id]).sum())\n",
    "            scores[i] = jd\n",
    "            \n",
    "    scores = sorted(scores.items(), reverse=True, key=lambda x: x[1])\n",
    "    \n",
    "    given = list(itertools.chain(*list(val[val.id==3].songs)))\n",
    "    result = []\n",
    "    for i in scores:\n",
    "        basket = list(itertools.chain(*list(train[train.id==i[0]].songs)))\n",
    "        for item in basket:\n",
    "            if len(result)==100:\n",
    "                break\n",
    "            if item not in given:\n",
    "                result.append(item)\n",
    "    return result"
   ]
  },
  {
   "cell_type": "code",
   "execution_count": 222,
   "metadata": {},
   "outputs": [
    {
     "data": {
      "application/vnd.jupyter.widget-view+json": {
       "model_id": "936014de32ab4bf29f114272c24dffa3",
       "version_major": 2,
       "version_minor": 0
      },
      "text/plain": [
       "HBox(children=(IntProgress(value=0, max=153429), HTML(value='')))"
      ]
     },
     "metadata": {},
     "output_type": "display_data"
    },
    {
     "name": "stdout",
     "output_type": "stream",
     "text": [
      "\n"
     ]
    }
   ],
   "source": [
    "example = recommend_100(118598)"
   ]
  },
  {
   "cell_type": "code",
   "execution_count": 223,
   "metadata": {
    "scrolled": true
   },
   "outputs": [
    {
     "data": {
      "text/plain": [
       "[415351,\n",
       " 566502,\n",
       " 412246,\n",
       " 660172,\n",
       " 187531,\n",
       " 61612,\n",
       " 151421,\n",
       " 516376,\n",
       " 219415,\n",
       " 551157,\n",
       " 654428,\n",
       " 467269,\n",
       " 164168,\n",
       " 416023,\n",
       " 680970,\n",
       " 557956,\n",
       " 411438,\n",
       " 646988,\n",
       " 157900,\n",
       " 320447,\n",
       " 19606,\n",
       " 425357,\n",
       " 219971,\n",
       " 21512,\n",
       " 690767,\n",
       " 438915,\n",
       " 149081,\n",
       " 271335,\n",
       " 653565,\n",
       " 125214,\n",
       " 328908,\n",
       " 333970,\n",
       " 12795,\n",
       " 107413,\n",
       " 162569,\n",
       " 161136,\n",
       " 66475,\n",
       " 623047,\n",
       " 367826,\n",
       " 209622,\n",
       " 207912,\n",
       " 586389,\n",
       " 292859,\n",
       " 328517,\n",
       " 310892,\n",
       " 15774,\n",
       " 381851,\n",
       " 225652,\n",
       " 608704,\n",
       " 261743,\n",
       " 268669,\n",
       " 562903,\n",
       " 295701,\n",
       " 461170,\n",
       " 78983,\n",
       " 76044,\n",
       " 127698,\n",
       " 352137,\n",
       " 243541,\n",
       " 269427,\n",
       " 455806,\n",
       " 703323,\n",
       " 638488,\n",
       " 422438,\n",
       " 592526,\n",
       " 413459,\n",
       " 545816,\n",
       " 693580,\n",
       " 359986,\n",
       " 611201,\n",
       " 520034,\n",
       " 412305,\n",
       " 110696,\n",
       " 350062,\n",
       " 472374,\n",
       " 104455,\n",
       " 520437,\n",
       " 373313,\n",
       " 151080,\n",
       " 656598,\n",
       " 288665,\n",
       " 694423,\n",
       " 308797,\n",
       " 637900,\n",
       " 262430,\n",
       " 551161,\n",
       " 434094,\n",
       " 149051,\n",
       " 607850,\n",
       " 101286,\n",
       " 620311,\n",
       " 584108,\n",
       " 696876,\n",
       " 165237,\n",
       " 525935,\n",
       " 491808,\n",
       " 5418,\n",
       " 340089,\n",
       " 651465,\n",
       " 303904]"
      ]
     },
     "execution_count": 223,
     "metadata": {},
     "output_type": "execute_result"
    }
   ],
   "source": [
    "example"
   ]
  },
  {
   "cell_type": "markdown",
   "metadata": {},
   "source": [
    "### 결과 확인"
   ]
  },
  {
   "cell_type": "code",
   "execution_count": 228,
   "metadata": {},
   "outputs": [
    {
     "data": {
      "text/html": [
       "<div>\n",
       "<style scoped>\n",
       "    .dataframe tbody tr th:only-of-type {\n",
       "        vertical-align: middle;\n",
       "    }\n",
       "\n",
       "    .dataframe tbody tr th {\n",
       "        vertical-align: top;\n",
       "    }\n",
       "\n",
       "    .dataframe thead th {\n",
       "        text-align: right;\n",
       "    }\n",
       "</style>\n",
       "<table border=\"1\" class=\"dataframe\">\n",
       "  <thead>\n",
       "    <tr style=\"text-align: right;\">\n",
       "      <th></th>\n",
       "      <th>song_gn_dtl_gnr_basket</th>\n",
       "      <th>issue_date</th>\n",
       "      <th>album_name</th>\n",
       "      <th>album_id</th>\n",
       "      <th>artist_id_basket</th>\n",
       "      <th>song_name</th>\n",
       "      <th>song_gn_gnr_basket</th>\n",
       "      <th>artist_name_basket</th>\n",
       "      <th>id</th>\n",
       "    </tr>\n",
       "  </thead>\n",
       "  <tbody>\n",
       "    <tr>\n",
       "      <td>0</td>\n",
       "      <td>[GN0901]</td>\n",
       "      <td>20140512</td>\n",
       "      <td>불후의 명곡 - 7080 추억의 얄개시대 팝송베스트</td>\n",
       "      <td>2255639</td>\n",
       "      <td>[2727]</td>\n",
       "      <td>Feelings</td>\n",
       "      <td>[GN0900]</td>\n",
       "      <td>[Various Artists]</td>\n",
       "      <td>0</td>\n",
       "    </tr>\n",
       "    <tr>\n",
       "      <td>1</td>\n",
       "      <td>[GN1601, GN1606]</td>\n",
       "      <td>20080421</td>\n",
       "      <td>Bach : Partitas Nos. 2, 3 &amp; 4</td>\n",
       "      <td>376431</td>\n",
       "      <td>[29966]</td>\n",
       "      <td>Bach : Partita No. 4 In D Major, BWV 828 - II....</td>\n",
       "      <td>[GN1600]</td>\n",
       "      <td>[Murray Perahia]</td>\n",
       "      <td>1</td>\n",
       "    </tr>\n",
       "    <tr>\n",
       "      <td>2</td>\n",
       "      <td>[GN0901]</td>\n",
       "      <td>20180518</td>\n",
       "      <td>Hit</td>\n",
       "      <td>4698747</td>\n",
       "      <td>[3361]</td>\n",
       "      <td>Solsbury Hill (Remastered 2002)</td>\n",
       "      <td>[GN0900]</td>\n",
       "      <td>[Peter Gabriel]</td>\n",
       "      <td>2</td>\n",
       "    </tr>\n",
       "    <tr>\n",
       "      <td>3</td>\n",
       "      <td>[GN1102, GN1101]</td>\n",
       "      <td>20151016</td>\n",
       "      <td>Feeling Right (Everything Is Nice) (Feat. Popc...</td>\n",
       "      <td>2644882</td>\n",
       "      <td>[838543]</td>\n",
       "      <td>Feeling Right (Everything Is Nice) (Feat. Popc...</td>\n",
       "      <td>[GN1100]</td>\n",
       "      <td>[Matoma]</td>\n",
       "      <td>3</td>\n",
       "    </tr>\n",
       "    <tr>\n",
       "      <td>4</td>\n",
       "      <td>[GN1802, GN1801]</td>\n",
       "      <td>20110824</td>\n",
       "      <td>그남자 그여자</td>\n",
       "      <td>2008470</td>\n",
       "      <td>[560160]</td>\n",
       "      <td>그남자 그여자</td>\n",
       "      <td>[GN1800]</td>\n",
       "      <td>[Jude Law]</td>\n",
       "      <td>4</td>\n",
       "    </tr>\n",
       "  </tbody>\n",
       "</table>\n",
       "</div>"
      ],
      "text/plain": [
       "  song_gn_dtl_gnr_basket  issue_date  \\\n",
       "0               [GN0901]    20140512   \n",
       "1       [GN1601, GN1606]    20080421   \n",
       "2               [GN0901]    20180518   \n",
       "3       [GN1102, GN1101]    20151016   \n",
       "4       [GN1802, GN1801]    20110824   \n",
       "\n",
       "                                          album_name  album_id  \\\n",
       "0                       불후의 명곡 - 7080 추억의 얄개시대 팝송베스트   2255639   \n",
       "1                      Bach : Partitas Nos. 2, 3 & 4    376431   \n",
       "2                                                Hit   4698747   \n",
       "3  Feeling Right (Everything Is Nice) (Feat. Popc...   2644882   \n",
       "4                                            그남자 그여자   2008470   \n",
       "\n",
       "  artist_id_basket                                          song_name  \\\n",
       "0           [2727]                                           Feelings   \n",
       "1          [29966]  Bach : Partita No. 4 In D Major, BWV 828 - II....   \n",
       "2           [3361]                    Solsbury Hill (Remastered 2002)   \n",
       "3         [838543]  Feeling Right (Everything Is Nice) (Feat. Popc...   \n",
       "4         [560160]                                            그남자 그여자   \n",
       "\n",
       "  song_gn_gnr_basket artist_name_basket  id  \n",
       "0           [GN0900]  [Various Artists]   0  \n",
       "1           [GN1600]   [Murray Perahia]   1  \n",
       "2           [GN0900]    [Peter Gabriel]   2  \n",
       "3           [GN1100]           [Matoma]   3  \n",
       "4           [GN1800]         [Jude Law]   4  "
      ]
     },
     "execution_count": 228,
     "metadata": {},
     "output_type": "execute_result"
    }
   ],
   "source": [
    "songs = pd.read_json('../data/song_meta.json')\n",
    "songs.head()"
   ]
  },
  {
   "cell_type": "code",
   "execution_count": 229,
   "metadata": {},
   "outputs": [
    {
     "name": "stdout",
     "output_type": "stream",
     "text": [
      "174104    Lovesick\n",
      "Name: song_name, dtype: object\n",
      "377243    돌아오지마 (Feat. 용준형 Of 비스트)\n",
      "Name: song_name, dtype: object\n",
      "442123    1cm의 자존심\n",
      "Name: song_name, dtype: object\n",
      "590253    Someone Who Can Dance\n",
      "Name: song_name, dtype: object\n",
      "372171    City\n",
      "Name: song_name, dtype: object\n",
      "142813    밖에 비온다 주룩주룩 (Rain Shower G-Mix)\n",
      "Name: song_name, dtype: object\n",
      "31529    Samsara (Feat. Emila)\n",
      "Name: song_name, dtype: object\n",
      "62003    희재\n",
      "Name: song_name, dtype: object\n",
      "435187    봄날은 간다\n",
      "Name: song_name, dtype: object\n",
      "2454    잡쉈잖아\n",
      "Name: song_name, dtype: object\n",
      "346913    The Lady (Feat. Bumkey & Dok2)\n",
      "Name: song_name, dtype: object\n",
      "368237    Too Late (Feat. Bumkey, Paloalto)\n",
      "Name: song_name, dtype: object\n",
      "654019    집앞에서 (전화 받지 마 Pt. 2) (Feat. Crucial Star)\n",
      "Name: song_name, dtype: object\n",
      "526161    Talk Dirty (Feat. 2 Chainz)\n",
      "Name: song_name, dtype: object\n",
      "326500    첫눈 오던 밤 (Feat. 팔로알토)\n",
      "Name: song_name, dtype: object\n",
      "559102    Up All Night (Feat. Mayson The Soul)\n",
      "Name: song_name, dtype: object\n",
      "122384    100 (Feat. 천재노창)\n",
      "Name: song_name, dtype: object\n",
      "51971    내 맘 모르지\n",
      "Name: song_name, dtype: object\n",
      "110028    살만해\n",
      "Name: song_name, dtype: object\n",
      "267571    령혼\n",
      "Name: song_name, dtype: object\n",
      "369649    Hymn For The Weekend (Seeb Remix)\n",
      "Name: song_name, dtype: object\n",
      "638064    GOOD (Feat. ELO)\n",
      "Name: song_name, dtype: object\n",
      "132689    맘 편히 (Comfortable)\n",
      "Name: song_name, dtype: object\n",
      "117518    And July (Feat. DEAN, DJ Friz)\n",
      "Name: song_name, dtype: object\n",
      "75971    여름밤에 우린\n",
      "Name: song_name, dtype: object\n",
      "346379    붐바야\n",
      "Name: song_name, dtype: object\n",
      "621152    목요일 밤 (Feat. 빈지노)\n",
      "Name: song_name, dtype: object\n",
      "147228    내가 저지른 사랑\n",
      "Name: song_name, dtype: object\n",
      "278145    남아있어 (Feat. Crush)\n",
      "Name: song_name, dtype: object\n",
      "633614    나비잠 (Sweet Dream)\n",
      "Name: song_name, dtype: object\n",
      "109240    나쁜X (BAD YEAR)\n",
      "Name: song_name, dtype: object\n",
      "626755    거짓말 (Feat. 이해리 Of 다비치)\n",
      "Name: song_name, dtype: object\n",
      "327792    We The Future\n",
      "Name: song_name, dtype: object\n",
      "559607    How To Love (Feat. Sofia Reyes)\n",
      "Name: song_name, dtype: object\n",
      "514556    마치 비행기 (Feat. 개리)\n",
      "Name: song_name, dtype: object\n",
      "617900    자격지심 (Feat. 은하 Of 여자친구)\n",
      "Name: song_name, dtype: object\n",
      "543820    이 소설의 끝을 다시 써보려 해\n",
      "Name: song_name, dtype: object\n",
      "250777    치키차카초코초\n",
      "Name: song_name, dtype: object\n",
      "490005    Glad You Came\n",
      "Name: song_name, dtype: object\n",
      "352039    Stronger (What Doesn`t Kill You)\n",
      "Name: song_name, dtype: object\n",
      "678294    예쁘잖아\n",
      "Name: song_name, dtype: object\n",
      "389785    Goodbye To Romance\n",
      "Name: song_name, dtype: object\n",
      "116092    Emergency\n",
      "Name: song_name, dtype: object\n",
      "237282    사이먼 도미닉\n",
      "Name: song_name, dtype: object\n",
      "368429    바람이나 좀 쐐 (Feat. 우혜미)\n",
      "Name: song_name, dtype: object\n",
      "565629    보통연애 (Feat. 박보람)\n",
      "Name: song_name, dtype: object\n",
      "564336    또 다시 사랑\n",
      "Name: song_name, dtype: object\n",
      "401775    Zeze\n",
      "Name: song_name, dtype: object\n",
      "143652    냉탕에 상어 (Feat. 블랙넛)\n",
      "Name: song_name, dtype: object\n",
      "77012    아이스크림의 시간\n",
      "Name: song_name, dtype: object\n",
      "317276    있어줘 (Feat. Lydia Paek)\n",
      "Name: song_name, dtype: object\n",
      "31551    Skill Skill Skill (Feat. DJ Wegun)\n",
      "Name: song_name, dtype: object\n",
      "363089    40 (Feat. 40)\n",
      "Name: song_name, dtype: object\n",
      "624738    잊어버리지마 (Feat. 태연)\n",
      "Name: song_name, dtype: object\n",
      "34548    what2do (Feat. Crush, Jeff Bernat)\n",
      "Name: song_name, dtype: object\n",
      "429530    잠시만 안녕 (Original)\n",
      "Name: song_name, dtype: object\n",
      "370044    Y (Please Tell Me Why)\n",
      "Name: song_name, dtype: object\n",
      "694355    그래도 살아가겠지\n",
      "Name: song_name, dtype: object\n",
      "528745    피해망상 Pt. 1 (Feat. Junggigo)\n",
      "Name: song_name, dtype: object\n",
      "380366    떠나는 사람, 남겨진 사람\n",
      "Name: song_name, dtype: object\n",
      "340091    Goodbye My Princess\n",
      "Name: song_name, dtype: object\n",
      "185869    사랑은 없다\n",
      "Name: song_name, dtype: object\n",
      "655888    Love The Way You Lie (Feat. Rihanna)\n",
      "Name: song_name, dtype: object\n",
      "506267    부치지 못한 편지\n",
      "Name: song_name, dtype: object\n",
      "446402    잘 가..지 마\n",
      "Name: song_name, dtype: object\n",
      "600272    겨울 나무\n",
      "Name: song_name, dtype: object\n"
     ]
    }
   ],
   "source": [
    "# seed\n",
    "for i in given:\n",
    "    print(songs[songs.id==i].song_name)"
   ]
  },
  {
   "cell_type": "code",
   "execution_count": 231,
   "metadata": {},
   "outputs": [
    {
     "name": "stdout",
     "output_type": "stream",
     "text": [
      "576231    안갯길 (Prod. By 진영(B1A4))\n",
      "Name: song_name, dtype: object\n",
      "698865    다정하게, 안녕히\n",
      "Name: song_name, dtype: object\n",
      "351342    끝\n",
      "Name: song_name, dtype: object\n",
      "73547    Dancing King\n",
      "Name: song_name, dtype: object\n",
      "376358    사랑해요\n",
      "Name: song_name, dtype: object\n",
      "675500    사랑이 아프다\n",
      "Name: song_name, dtype: object\n",
      "183579    휘파람\n",
      "Name: song_name, dtype: object\n",
      "678936    태풍 (The Eye)\n",
      "Name: song_name, dtype: object\n",
      "280830    내 마음 들리나요 (Feat. 이하이)\n",
      "Name: song_name, dtype: object\n",
      "473756    결정 (Feat. 아이유)\n",
      "Name: song_name, dtype: object\n",
      "462446    그게 뭐라고\n",
      "Name: song_name, dtype: object\n",
      "292825    그대라는 사치\n",
      "Name: song_name, dtype: object\n",
      "688785    Say Yes\n",
      "Name: song_name, dtype: object\n",
      "64052    우주를 줄게\n",
      "Name: song_name, dtype: object\n",
      "216696    나만 안되는 연애\n",
      "Name: song_name, dtype: object\n",
      "375450    구르미 그린 달빛\n",
      "Name: song_name, dtype: object\n",
      "228031    그대를 잊는다는 건\n",
      "Name: song_name, dtype: object\n",
      "99948    꽐라\n",
      "Name: song_name, dtype: object\n",
      "133190    러시안 룰렛 (Russian Roulette)\n",
      "Name: song_name, dtype: object\n",
      "244808    몸\n",
      "Name: song_name, dtype: object\n",
      "155356    빨리 전화해 (Feat. KUSH)\n",
      "Name: song_name, dtype: object\n",
      "367459    puzzle\n",
      "Name: song_name, dtype: object\n",
      "388758    Lotto\n",
      "Name: song_name, dtype: object\n",
      "196664    If You\n",
      "Name: song_name, dtype: object\n",
      "160214    잠은 다 잤나봐요\n",
      "Name: song_name, dtype: object\n",
      "321564    너를 위해\n",
      "Name: song_name, dtype: object\n",
      "116573    안아줘\n",
      "Name: song_name, dtype: object\n",
      "241272    NEW YORK\n",
      "Name: song_name, dtype: object\n",
      "177284    The Time Goes On\n",
      "Name: song_name, dtype: object\n",
      "698250    어디에도\n",
      "Name: song_name, dtype: object\n",
      "528130    공감 (Feat. 서영은)\n",
      "Name: song_name, dtype: object\n",
      "505036    D (half moon) (Feat. 개코)\n",
      "Name: song_name, dtype: object\n",
      "518420    CHEER UP\n",
      "Name: song_name, dtype: object\n",
      "627363    널 사랑하지 않아\n",
      "Name: song_name, dtype: object\n",
      "37748    너였다면\n",
      "Name: song_name, dtype: object\n",
      "11914    Forever (Prod. By GRAY)\n",
      "Name: song_name, dtype: object\n",
      "548735    호랑나비 (Feat. Gill, 리듬파워, 김흥국)\n",
      "Name: song_name, dtype: object\n",
      "462965    Why So Lonely\n",
      "Name: song_name, dtype: object\n",
      "411756    Day Day (Feat. 박재범) (Prod. by GRAY)\n",
      "Name: song_name, dtype: object\n",
      "52904    너 그리고 나 (NAVILLERA)\n",
      "Name: song_name, dtype: object\n",
      "641599    네 생각\n",
      "Name: song_name, dtype: object\n",
      "376358    사랑해요\n",
      "Name: song_name, dtype: object\n",
      "675500    사랑이 아프다\n",
      "Name: song_name, dtype: object\n",
      "183579    휘파람\n",
      "Name: song_name, dtype: object\n",
      "367459    puzzle\n",
      "Name: song_name, dtype: object\n",
      "388758    Lotto\n",
      "Name: song_name, dtype: object\n",
      "196664    If You\n",
      "Name: song_name, dtype: object\n",
      "160214    잠은 다 잤나봐요\n",
      "Name: song_name, dtype: object\n",
      "321564    너를 위해\n",
      "Name: song_name, dtype: object\n",
      "292825    그대라는 사치\n",
      "Name: song_name, dtype: object\n",
      "688785    Say Yes\n",
      "Name: song_name, dtype: object\n",
      "64052    우주를 줄게\n",
      "Name: song_name, dtype: object\n",
      "375450    구르미 그린 달빛\n",
      "Name: song_name, dtype: object\n",
      "228031    그대를 잊는다는 건\n",
      "Name: song_name, dtype: object\n",
      "116573    안아줘\n",
      "Name: song_name, dtype: object\n",
      "177284    The Time Goes On\n",
      "Name: song_name, dtype: object\n",
      "698250    어디에도\n",
      "Name: song_name, dtype: object\n",
      "528130    공감 (Feat. 서영은)\n",
      "Name: song_name, dtype: object\n",
      "505036    D (half moon) (Feat. 개코)\n",
      "Name: song_name, dtype: object\n",
      "518420    CHEER UP\n",
      "Name: song_name, dtype: object\n",
      "627363    널 사랑하지 않아\n",
      "Name: song_name, dtype: object\n",
      "37748    너였다면\n",
      "Name: song_name, dtype: object\n",
      "318576    I Like That\n",
      "Name: song_name, dtype: object\n",
      "11914    Forever (Prod. By GRAY)\n",
      "Name: song_name, dtype: object\n",
      "99948    꽐라\n",
      "Name: song_name, dtype: object\n",
      "133190    러시안 룰렛 (Russian Roulette)\n",
      "Name: song_name, dtype: object\n",
      "244808    몸\n",
      "Name: song_name, dtype: object\n",
      "155356    빨리 전화해 (Feat. KUSH)\n",
      "Name: song_name, dtype: object\n",
      "241272    NEW YORK\n",
      "Name: song_name, dtype: object\n",
      "576231    안갯길 (Prod. By 진영(B1A4))\n",
      "Name: song_name, dtype: object\n",
      "698865    다정하게, 안녕히\n",
      "Name: song_name, dtype: object\n",
      "351342    끝\n",
      "Name: song_name, dtype: object\n",
      "73547    Dancing King\n",
      "Name: song_name, dtype: object\n",
      "90733    내 곁에 서 있어줘\n",
      "Name: song_name, dtype: object\n",
      "678936    태풍 (The Eye)\n",
      "Name: song_name, dtype: object\n",
      "65773    녹는다\n",
      "Name: song_name, dtype: object\n",
      "280830    내 마음 들리나요 (Feat. 이하이)\n",
      "Name: song_name, dtype: object\n",
      "548735    호랑나비 (Feat. Gill, 리듬파워, 김흥국)\n",
      "Name: song_name, dtype: object\n",
      "462965    Why So Lonely\n",
      "Name: song_name, dtype: object\n",
      "411756    Day Day (Feat. 박재범) (Prod. by GRAY)\n",
      "Name: song_name, dtype: object\n",
      "52904    너 그리고 나 (NAVILLERA)\n",
      "Name: song_name, dtype: object\n",
      "641599    네 생각\n",
      "Name: song_name, dtype: object\n",
      "473756    결정 (Feat. 아이유)\n",
      "Name: song_name, dtype: object\n",
      "462446    그게 뭐라고\n",
      "Name: song_name, dtype: object\n",
      "698865    다정하게, 안녕히\n",
      "Name: song_name, dtype: object\n",
      "351342    끝\n",
      "Name: song_name, dtype: object\n",
      "73547    Dancing King\n",
      "Name: song_name, dtype: object\n",
      "678936    태풍 (The Eye)\n",
      "Name: song_name, dtype: object\n",
      "280830    내 마음 들리나요 (Feat. 이하이)\n",
      "Name: song_name, dtype: object\n",
      "116573    안아줘\n",
      "Name: song_name, dtype: object\n",
      "177284    The Time Goes On\n",
      "Name: song_name, dtype: object\n",
      "698250    어디에도\n",
      "Name: song_name, dtype: object\n",
      "528130    공감 (Feat. 서영은)\n",
      "Name: song_name, dtype: object\n",
      "505036    D (half moon) (Feat. 개코)\n",
      "Name: song_name, dtype: object\n",
      "518420    CHEER UP\n",
      "Name: song_name, dtype: object\n",
      "627363    널 사랑하지 않아\n",
      "Name: song_name, dtype: object\n",
      "37748    너였다면\n",
      "Name: song_name, dtype: object\n",
      "11914    Forever (Prod. By GRAY)\n",
      "Name: song_name, dtype: object\n",
      "548735    호랑나비 (Feat. Gill, 리듬파워, 김흥국)\n",
      "Name: song_name, dtype: object\n",
      "462965    Why So Lonely\n",
      "Name: song_name, dtype: object\n"
     ]
    }
   ],
   "source": [
    "# recommendation\n",
    "for i in result:\n",
    "    print(songs[songs.id==i].song_name)"
   ]
  },
  {
   "cell_type": "code",
   "execution_count": null,
   "metadata": {},
   "outputs": [],
   "source": []
  }
 ],
 "metadata": {
  "kernelspec": {
   "display_name": "Python 3",
   "language": "python",
   "name": "python3"
  },
  "language_info": {
   "codemirror_mode": {
    "name": "ipython",
    "version": 3
   },
   "file_extension": ".py",
   "mimetype": "text/x-python",
   "name": "python",
   "nbconvert_exporter": "python",
   "pygments_lexer": "ipython3",
   "version": "3.7.4"
  }
 },
 "nbformat": 4,
 "nbformat_minor": 2
}
