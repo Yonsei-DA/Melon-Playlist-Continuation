{
 "cells": [
  {
   "cell_type": "markdown",
   "metadata": {},
   "source": [
    "# CF 성능 확인을 위한 코드\n",
    "inspired by: https://gist.github.com/tgsmith61591/ce7d614d7a0442f94cd5ae5d1e51d3c2"
   ]
  },
  {
   "cell_type": "markdown",
   "metadata": {},
   "source": [
    "### load library"
   ]
  },
  {
   "cell_type": "code",
   "execution_count": 1,
   "metadata": {},
   "outputs": [],
   "source": [
    "import pandas as pd\n",
    "import numpy as np\n",
    "from sklearn.model_selection import train_test_split"
   ]
  },
  {
   "cell_type": "code",
   "execution_count": 14,
   "metadata": {},
   "outputs": [],
   "source": [
    "from scipy import sparse"
   ]
  },
  {
   "cell_type": "code",
   "execution_count": 2,
   "metadata": {},
   "outputs": [],
   "source": [
    "from tqdm.notebook import tqdm"
   ]
  },
  {
   "cell_type": "markdown",
   "metadata": {},
   "source": [
    "### load dataframe"
   ]
  },
  {
   "cell_type": "code",
   "execution_count": 176,
   "metadata": {},
   "outputs": [],
   "source": [
    "song_meta = pd.read_json(\"../data/song_meta.json\")\n",
    "train_original = pd.read_json(\"../data/train.json\")"
   ]
  },
  {
   "cell_type": "code",
   "execution_count": 177,
   "metadata": {},
   "outputs": [],
   "source": [
    "train_original['num_songs'] = train_original['songs'].map(lambda x: len(x))"
   ]
  },
  {
   "cell_type": "code",
   "execution_count": 178,
   "metadata": {},
   "outputs": [],
   "source": [
    "# sample 코드 돌리는 것 편의상\n",
    "train_original.sort_values(by='id', inplace=True)"
   ]
  },
  {
   "cell_type": "code",
   "execution_count": 179,
   "metadata": {},
   "outputs": [],
   "source": [
    "# sample 1000개 추출\n",
    "train = train_original.iloc[:1000].copy()"
   ]
  },
  {
   "cell_type": "code",
   "execution_count": 180,
   "metadata": {},
   "outputs": [],
   "source": [
    "DTYPE = np.float64\n",
    "NUM_PLYSTS = train.id.max()\n",
    "NUM_SONGS = 707989"
   ]
  },
  {
   "cell_type": "markdown",
   "metadata": {},
   "source": [
    "### simple EDA"
   ]
  },
  {
   "cell_type": "code",
   "execution_count": 25,
   "metadata": {},
   "outputs": [
    {
     "data": {
      "text/plain": [
       "count    115071.000000\n",
       "mean         45.935735\n",
       "std          43.950335\n",
       "min           1.000000\n",
       "25%          19.000000\n",
       "50%          30.000000\n",
       "75%          54.000000\n",
       "max         200.000000\n",
       "Name: num_songs, dtype: float64"
      ]
     },
     "execution_count": 25,
     "metadata": {},
     "output_type": "execute_result"
    }
   ],
   "source": [
    "train_original['num_songs'].describe()"
   ]
  },
  {
   "cell_type": "markdown",
   "metadata": {},
   "source": [
    "# cf score 1"
   ]
  },
  {
   "cell_type": "markdown",
   "metadata": {},
   "source": [
    "Standard CF model scoring method"
   ]
  },
  {
   "cell_type": "markdown",
   "metadata": {},
   "source": [
    "# cf score 2"
   ]
  },
  {
   "cell_type": "markdown",
   "metadata": {},
   "source": [
    "melon music continuation 문제에 맞춘 score method"
   ]
  },
  {
   "cell_type": "markdown",
   "metadata": {},
   "source": [
    "1. train/test data split\n",
    "2. test data set에서 각 playlist마다 일정 부분 masking\n",
    "3. train data로 test data의 각 playlist마다 100개 곡 예측\n",
    "4. nDCG score 계산"
   ]
  },
  {
   "cell_type": "markdown",
   "metadata": {},
   "source": [
    "### cf_train_test_split"
   ]
  },
  {
   "cell_type": "code",
   "execution_count": 11,
   "metadata": {},
   "outputs": [],
   "source": [
    "### u, i, r 각각 길이가 같은지 확인 ###\n",
    "def check_consistent_length(u, i, r):\n",
    "    from sklearn.utils import validation as skval\n",
    "    \n",
    "    skval.check_consistent_length(u, i, r)\n",
    "    return np.asarray(u), np.asarray(i), np.asarray(r, dtype=DTYPE)"
   ]
  },
  {
   "cell_type": "code",
   "execution_count": 94,
   "metadata": {},
   "outputs": [],
   "source": [
    "### item based or user based 변경 및 csr matrix 생성 함수 ###\n",
    "def to_sparse_csr(u, i, r, axis=0, dtype=DTYPE):\n",
    "    if axis not in (0,1):\n",
    "        raise ValueError('axis must be an int in (0, 1)')\n",
    "    \n",
    "    rows = u if axis == 0 else i\n",
    "    cols = i if axis == 0 else u\n",
    "    data = r\n",
    "    \n",
    "    data, rows, cols = (np.asarray(x) for x in (data, rows, cols))\n",
    "    shape = (NUM_PLYSTS+1, NUM_SONGS)\n",
    "    \n",
    "    return sparse.csr_matrix((data, (rows, cols)), shape=shape, dtype=dtype)"
   ]
  },
  {
   "cell_type": "code",
   "execution_count": 137,
   "metadata": {},
   "outputs": [],
   "source": [
    "### test set에서 가릴 위치를 담은 test_mask 생성 ###\n",
    "### 단, 각 plyst마다 seed가 될 곡 하나는 꼭 남겨두는 mask ###\n",
    "def get_stratified_te_mask(u, i, mask_size, random_state):\n",
    "    from sklearn.utils.validation import check_random_state\n",
    "    random_state = check_random_state(random_state)\n",
    "    n_events = u.shape[0]\n",
    "    \n",
    "    test_mask = random_state.rand(n_events) <= (1-mask_size)\n",
    "    \n",
    "    for array in (u, i):\n",
    "        present = array[test_mask]\n",
    "        test_vals = array[~test_mask]\n",
    "        missing = np.unique(test_vals[np.where(~np.in1d(test_vals, present))[0]])\n",
    "        \n",
    "        if missing.shape[0] == 0:\n",
    "            continue\n",
    "            \n",
    "        array_mask_missing = np.in1d(array, missing)\n",
    "        where_missing = np.where(array_mask_missing)[0]\n",
    "        \n",
    "        added = set()\n",
    "        for idx, val in zip(where_missing, array[where_missing]):\n",
    "            if val in added:\n",
    "                continue\n",
    "            \n",
    "            test_mask[idx] = True\n",
    "            added.add(val)\n",
    "    \n",
    "    return test_mask"
   ]
  },
  {
   "cell_type": "code",
   "execution_count": 138,
   "metadata": {},
   "outputs": [],
   "source": [
    "### 최종적으로 CF를 만들고 성능을 확인할 train csr matrix, test csr matrix ###\n",
    "def make_sparse_tr(users, items, ratings):\n",
    "    train_csr = to_sparse_csr(u=users, i=items, r=ratings, axis=0)\n",
    "    return train_csr\n",
    "    \n",
    "def make_sparse_te(users, items, ratings, test_mask):\n",
    "    test_csr = to_sparse_csr(u=users[test_mask], i=items[test_mask], r=ratings[test_mask], axis=0)\n",
    "    return test_csr"
   ]
  },
  {
   "cell_type": "code",
   "execution_count": 139,
   "metadata": {},
   "outputs": [],
   "source": [
    "def input_for_csr(dataframe):\n",
    "    if 'id' not in dataframe.columns:\n",
    "        raise NameError(\"dataframe must have column name 'id'.\")\n",
    "    if 'songs' not in dataframe.columns:\n",
    "        raise NameError(\"dataframe must have column name 'songs'.\")\n",
    "        \n",
    "    data, rows, cols = [], [], []\n",
    "\n",
    "    for plyst_id, songs in dataframe[['id','songs']].values:\n",
    "        for song_id in songs:\n",
    "            rows.append(plyst_id)\n",
    "            cols.append(song_id)\n",
    "            data.append(1)\n",
    "    return rows, cols, data # u, i, r"
   ]
  },
  {
   "cell_type": "code",
   "execution_count": 190,
   "metadata": {},
   "outputs": [],
   "source": [
    "### 최종으로 쓸 function ###\n",
    "def cf_train_test_split(data, test_size=0.3, mask_size=0.7, random_state=None):\n",
    "    from sklearn.model_selection import train_test_split\n",
    "    train_set, test_set = train_test_split(data, test_size=test_size, shuffle=True, random_state=random_state)\n",
    "    print('train set: ', len(train_set), 'plysts')\n",
    "    print('[train] min songs in one plyst: ', train_set.num_songs.min())\n",
    "    print('test set: ', len(test_set), 'plysts')\n",
    "    print('[test] min songs in one plyst: ', test_set.num_songs.min())\n",
    "    \n",
    "    # check_consistent_length - input: u, i, r\n",
    "    # output: users, items, ratings\n",
    "    u, i, r = input_for_csr(train_set)\n",
    "    tr_rows, tr_cols, tr_data = check_consistent_length(u, i, r)\n",
    "    u, i, r = input_for_csr(test_set)\n",
    "    te_rows, te_cols, te_data = check_consistent_length(u, i, r)\n",
    "    \n",
    "    test_mask = get_stratified_te_mask(u=te_rows, i=te_cols, mask_size=mask_size, random_state=random_state)\n",
    "    _, counts = np.unique(test_mask, return_counts=True)\n",
    "    print('---')\n",
    "    print('masked: ', counts[0])\n",
    "    print('unmasked: ', counts[1])\n",
    "    \n",
    "    return make_sparse_tr(tr_rows, tr_cols, tr_data), make_sparse_te(te_rows, te_cols, te_data, test_mask)"
   ]
  },
  {
   "cell_type": "code",
   "execution_count": 191,
   "metadata": {
    "scrolled": true
   },
   "outputs": [
    {
     "name": "stdout",
     "output_type": "stream",
     "text": [
      "train set:  700 plysts\n",
      "[train] min songs in one plyst:  3\n",
      "test set:  300 plysts\n",
      "[test] min songs in one plyst:  4\n",
      "---\n",
      "masked:  1900\n",
      "unmasked:  10893\n"
     ]
    }
   ],
   "source": [
    "tr_csr, te_csr = cf_train_test_split(train, test_size=0.3, mask_size=0.7, random_state=42)"
   ]
  },
  {
   "cell_type": "markdown",
   "metadata": {},
   "source": [
    "### nDCG score"
   ]
  },
  {
   "cell_type": "code",
   "execution_count": 192,
   "metadata": {},
   "outputs": [],
   "source": [
    "class CustomEvaluator:\n",
    "    \n",
    "    def _idcg(self, l):\n",
    "        return sum((1.0 / np.log(i + 2) for i in range(l)))\n",
    "\n",
    "    def __init__(self):\n",
    "        self._idcgs = [self._idcg(i) for i in range(101)]\n",
    "\n",
    "    def _ndcg(self, gt, rec):\n",
    "        dcg = 0.0\n",
    "        for i, r in enumerate(rec):\n",
    "            if r in gt:\n",
    "                dcg += 1.0 / np.log(i + 2)\n",
    "\n",
    "        return dcg / self._idcgs[len(gt)]\n",
    "\n",
    "    def _eval(self, gt_fname, rec_fname):\n",
    "        gt_playlists = load_json(gt_fname)\n",
    "        gt_dict = {g[\"id\"]: g for g in gt_playlists}\n",
    "        rec_playlists = load_json(rec_fname)\n",
    "        \n",
    "        music_ndcg = 0.0\n",
    "        tag_ndcg = 0.0\n",
    "\n",
    "        for rec in rec_playlists:\n",
    "            gt = gt_dict[rec[\"id\"]]\n",
    "            music_ndcg += self._ndcg(gt[\"songs\"], rec[\"songs\"][:100])\n",
    "            tag_ndcg += self._ndcg(gt[\"tags\"], rec[\"tags\"][:10])\n",
    "\n",
    "        music_ndcg = music_ndcg / len(rec_playlists)\n",
    "        tag_ndcg = tag_ndcg / len(rec_playlists)\n",
    "        score = music_ndcg * 0.85 + tag_ndcg * 0.15\n",
    "\n",
    "        return music_ndcg, tag_ndcg, score\n",
    "\n",
    "    def evaluate(self, gt_fname, rec_fname):\n",
    "        try:\n",
    "            music_ndcg, tag_ndcg, score = self._eval(gt_fname, rec_fname)\n",
    "            print(f\"Music nDCG: {music_ndcg:.6}\")\n",
    "            print(f\"Tag nDCG: {tag_ndcg:.6}\")\n",
    "            print(f\"Score: {score:.6}\")\n",
    "        except Exception as e:\n",
    "            print(e)"
   ]
  },
  {
   "cell_type": "code",
   "execution_count": null,
   "metadata": {},
   "outputs": [],
   "source": [
    "# # example\n",
    "# evaluator = CustomEvaluator()\n",
    "# evaluator.evaluate(\"arena_data/answers/val.json\", \"arena_data/results/results.json\")"
   ]
  }
 ],
 "metadata": {
  "kernelspec": {
   "display_name": "Python 3",
   "language": "python",
   "name": "python3"
  },
  "language_info": {
   "codemirror_mode": {
    "name": "ipython",
    "version": 3
   },
   "file_extension": ".py",
   "mimetype": "text/x-python",
   "name": "python",
   "nbconvert_exporter": "python",
   "pygments_lexer": "ipython3",
   "version": "3.7.4"
  }
 },
 "nbformat": 4,
 "nbformat_minor": 2
}
